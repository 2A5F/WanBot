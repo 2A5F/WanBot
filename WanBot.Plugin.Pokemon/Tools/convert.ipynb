{
 "cells": [
  {
   "cell_type": "code",
   "execution_count": null,
   "metadata": {},
   "outputs": [],
   "source": [
    "import os\n",
    "import shutil\n",
    "import json\n",
    "source = \"<From where>\"\n",
    "out = \"<Copy to where>\""
   ]
  },
  {
   "cell_type": "code",
   "execution_count": null,
   "metadata": {},
   "outputs": [],
   "source": [
    "idMap = {}\n",
    "with open(\"./map.csv\") as f:\n",
    "    lines = f.readlines()\n",
    "    for line in lines:\n",
    "        args = line.split(\";\")\n",
    "        idMap[int(args[1])] = int(args[2])"
   ]
  },
  {
   "cell_type": "code",
   "execution_count": null,
   "metadata": {},
   "outputs": [],
   "source": [
    "for fpathe,dirs,fs in os.walk(source):\n",
    "  for f in fs:\n",
    "    sourcePath = os.path.join(fpathe,f)\n",
    "    strs = f.split('.')\n",
    "    if len(strs) != 3 or not strs[0].isdigit() or not strs[1].isdigit():\n",
    "      continue\n",
    "    if int(strs[0]) > 420 or int(strs[1]) > 420:\n",
    "      continue\n",
    "    idA = idMap[int(strs[0])]\n",
    "    idB = idMap[int(strs[1])]\n",
    "    idAFull = str(idA).zfill(4)\n",
    "    idBFull = str(idB).zfill(4)\n",
    "\n",
    "    outDir = os.path.join(out, idAFull)\n",
    "    if not os.path.exists(outDir):\n",
    "        os.makedirs(outDir)\n",
    "    outPath = os.path.join(outDir, idAFull + \".\" + idBFull + \".\" + strs[2])\n",
    "    shutil.copy(sourcePath, outPath)\n",
    "    "
   ]
  }
 ],
 "metadata": {
  "kernelspec": {
   "display_name": "Python 3.10.10 ('jupyter')",
   "language": "python",
   "name": "python3"
  },
  "language_info": {
   "codemirror_mode": {
    "name": "ipython",
    "version": 3
   },
   "file_extension": ".py",
   "mimetype": "text/x-python",
   "name": "python",
   "nbconvert_exporter": "python",
   "pygments_lexer": "ipython3",
   "version": "3.10.10"
  },
  "orig_nbformat": 4,
  "vscode": {
   "interpreter": {
    "hash": "42d0ed6f8e7aa6d2010fce0ad1f19622a3110cf15ab00821aff8966e1d5c3f84"
   }
  }
 },
 "nbformat": 4,
 "nbformat_minor": 2
}
